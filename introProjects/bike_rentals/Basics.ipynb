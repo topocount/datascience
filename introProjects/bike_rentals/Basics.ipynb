{
 "cells": [
  {
   "cell_type": "markdown",
   "metadata": {},
   "source": [
    "# Decision trees with Bike Sharing Data\n",
    "This dataset contains information on bike rentals over time between 2011 and 2012 in Porto, Portugal. More information can be found [here](http://archive.ics.uci.edu/ml/datasets/Bike+Sharing+Dataset)."
   ]
  },
  {
   "cell_type": "code",
   "execution_count": 1,
   "metadata": {
    "collapsed": false
   },
   "outputs": [
    {
     "name": "stdout",
     "output_type": "stream",
     "text": [
      "    instant      dteday  season  yr  mnth  hr  holiday  weekday  workingday  \\\n",
      "0         1  2011-01-01       1   0     1   0        0        6           0   \n",
      "1         2  2011-01-01       1   0     1   1        0        6           0   \n",
      "2         3  2011-01-01       1   0     1   2        0        6           0   \n",
      "3         4  2011-01-01       1   0     1   3        0        6           0   \n",
      "4         5  2011-01-01       1   0     1   4        0        6           0   \n",
      "5         6  2011-01-01       1   0     1   5        0        6           0   \n",
      "6         7  2011-01-01       1   0     1   6        0        6           0   \n",
      "7         8  2011-01-01       1   0     1   7        0        6           0   \n",
      "8         9  2011-01-01       1   0     1   8        0        6           0   \n",
      "9        10  2011-01-01       1   0     1   9        0        6           0   \n",
      "10       11  2011-01-01       1   0     1  10        0        6           0   \n",
      "11       12  2011-01-01       1   0     1  11        0        6           0   \n",
      "12       13  2011-01-01       1   0     1  12        0        6           0   \n",
      "13       14  2011-01-01       1   0     1  13        0        6           0   \n",
      "14       15  2011-01-01       1   0     1  14        0        6           0   \n",
      "15       16  2011-01-01       1   0     1  15        0        6           0   \n",
      "16       17  2011-01-01       1   0     1  16        0        6           0   \n",
      "17       18  2011-01-01       1   0     1  17        0        6           0   \n",
      "18       19  2011-01-01       1   0     1  18        0        6           0   \n",
      "19       20  2011-01-01       1   0     1  19        0        6           0   \n",
      "\n",
      "    weathersit  temp   atemp   hum  windspeed  casual  registered  cnt  \n",
      "0            1  0.24  0.2879  0.81     0.0000       3          13   16  \n",
      "1            1  0.22  0.2727  0.80     0.0000       8          32   40  \n",
      "2            1  0.22  0.2727  0.80     0.0000       5          27   32  \n",
      "3            1  0.24  0.2879  0.75     0.0000       3          10   13  \n",
      "4            1  0.24  0.2879  0.75     0.0000       0           1    1  \n",
      "5            2  0.24  0.2576  0.75     0.0896       0           1    1  \n",
      "6            1  0.22  0.2727  0.80     0.0000       2           0    2  \n",
      "7            1  0.20  0.2576  0.86     0.0000       1           2    3  \n",
      "8            1  0.24  0.2879  0.75     0.0000       1           7    8  \n",
      "9            1  0.32  0.3485  0.76     0.0000       8           6   14  \n",
      "10           1  0.38  0.3939  0.76     0.2537      12          24   36  \n",
      "11           1  0.36  0.3333  0.81     0.2836      26          30   56  \n",
      "12           1  0.42  0.4242  0.77     0.2836      29          55   84  \n",
      "13           2  0.46  0.4545  0.72     0.2985      47          47   94  \n",
      "14           2  0.46  0.4545  0.72     0.2836      35          71  106  \n",
      "15           2  0.44  0.4394  0.77     0.2985      40          70  110  \n",
      "16           2  0.42  0.4242  0.82     0.2985      41          52   93  \n",
      "17           2  0.44  0.4394  0.82     0.2836      15          52   67  \n",
      "18           3  0.42  0.4242  0.88     0.2537       9          26   35  \n",
      "19           3  0.42  0.4242  0.88     0.2537       6          31   37  \n"
     ]
    }
   ],
   "source": [
    "import pandas as pd\n",
    "import numpy as np\n",
    "import matplotlib.pyplot as plt\n",
    "%matplotlib inline\n",
    "\n",
    "# import tools that will be used, along with the data into into a pandas DataFrame\n",
    "rentals = pd.read_csv('bike_rental_hour.csv')\n",
    "print(rentals.head(20))"
   ]
  },
  {
   "cell_type": "code",
   "execution_count": 2,
   "metadata": {
    "collapsed": false
   },
   "outputs": [
    {
     "data": {
      "image/png": "[encoded data removed]",
      "text/plain": [
       "<matplotlib.figure.Figure at 0x740b050>"
      ]
     },
     "metadata": {},
     "output_type": "display_data"
    }
   ],
   "source": [
    "rentals['cnt'].hist()\n",
    "plt.show()"
   ]
  },
  {
   "cell_type": "markdown",
   "metadata": {},
   "source": [
    "This plot shows the distribution of the `cnt` column, which indicates the number of bikes rented in a given instant. The distribution is postively skewed, showing that it's more likely that a lower quantity bikes are out for a given hour. "
   ]
  },
  {
   "cell_type": "code",
   "execution_count": 3,
   "metadata": {
    "collapsed": false
   },
   "outputs": [
    {
     "name": "stdout",
     "output_type": "stream",
     "text": [
      "instant       0.278379\n",
      "season        0.178056\n",
      "yr            0.250495\n",
      "mnth          0.120638\n",
      "hr            0.394071\n",
      "holiday      -0.030927\n",
      "weekday       0.026900\n",
      "workingday    0.030284\n",
      "weathersit   -0.142426\n",
      "temp          0.404772\n",
      "atemp         0.400929\n",
      "hum          -0.322911\n",
      "windspeed     0.093234\n",
      "casual        0.694564\n",
      "registered    0.972151\n",
      "cnt           1.000000\n",
      "Name: cnt, dtype: float64\n"
     ]
    }
   ],
   "source": [
    "cors = rentals.corr()\n",
    "print(cors['cnt'])"
   ]
  },
  {
   "cell_type": "markdown",
   "metadata": {},
   "source": [
    "It appears that the `weathersituation` and `humidity` show a significant negative correlation with the number of bike rentals. It's understandable that temperature is positively correlated. I'm interested to see that rentals tended to increase year over year, which indicates that it takes some time for the rental system to build a user base. \n",
    "\n",
    "Lastly, the registered and casual columns will have to be removed from analysis, since they directly compose the count total"
   ]
  },
  {
   "cell_type": "code",
   "execution_count": 4,
   "metadata": {
    "collapsed": false
   },
   "outputs": [],
   "source": [
    "# Grouping the times of day together to create a morning, afternoon, night\n",
    "# , and early morning grouping feature\n",
    "def assign_label(hr):\n",
    "    if hr <=6: return 4\n",
    "    elif hr <= 12: return 1\n",
    "    elif hr <= 18: return 2\n",
    "    elif hr <= 24: return 3\n",
    "    \n",
    "rentals['time_label'] = rentals['hr'].apply(assign_label)"
   ]
  },
  {
   "cell_type": "markdown",
   "metadata": {},
   "source": [
    "# Error Metric Selection\n",
    "Using the data in this set, we are going to look at time of day, weather conditions, and seasonality to predict how many bikes will be rented in a given instant. Root Mean Squared Error (RMSE) is a great choice, because it emphasizes the accomodation of outliers by penalizing them more than an absolute error metric. "
   ]
  },
  {
   "cell_type": "code",
   "execution_count": 5,
   "metadata": {
    "collapsed": false
   },
   "outputs": [],
   "source": [
    "split_row = round(rentals.shape[0]*0.8)\n",
    "train = rentals[:split_row]\n",
    "test = rentals[split_row:]"
   ]
  },
  {
   "cell_type": "code",
   "execution_count": 6,
   "metadata": {
    "collapsed": false
   },
   "outputs": [],
   "source": [
    "fit_cols = rentals.columns.tolist()\n",
    "fit_cols.remove('casual')\n",
    "fit_cols.remove('registered')\n",
    "fit_cols.remove('cnt')\n",
    "fit_cols.remove('dteday')"
   ]
  },
  {
   "cell_type": "markdown",
   "metadata": {},
   "source": [
    "# Linear Regression Model"
   ]
  },
  {
   "cell_type": "code",
   "execution_count": 11,
   "metadata": {
    "collapsed": false
   },
   "outputs": [],
   "source": [
    "from sklearn.linear_model import LinearRegression\n",
    "rentreg = LinearRegression()\n",
    "rentreg.fit(train[fit_cols],train['cnt'])\n",
    "linpreds = rentreg.predict(test[fit_cols])"
   ]
  },
  {
   "cell_type": "code",
   "execution_count": 12,
   "metadata": {
    "collapsed": false
   },
   "outputs": [
    {
     "name": "stdout",
     "output_type": "stream",
     "text": [
      "164.159579028\n"
     ]
    }
   ],
   "source": [
    "from sklearn.metrics import mean_squared_error\n",
    "print(mean_squared_error(test['cnt'],linpreds) ** 0.5)"
   ]
  },
  {
   "cell_type": "markdown",
   "metadata": {},
   "source": [
    "### Linear Regression Conclusions\n",
    "The RMSE calculated above shows that the predictions are usually about 161 bikes off the actual count. This is not a great value. In order to improve this prediction, more feature columns could be added. Instead, we'll see what decision trees and random forests have to offer."
   ]
  },
  {
   "cell_type": "markdown",
   "metadata": {},
   "source": [
    "# Decision Trees"
   ]
  },
  {
   "cell_type": "code",
   "execution_count": 13,
   "metadata": {
    "collapsed": false
   },
   "outputs": [
    {
     "name": "stdout",
     "output_type": "stream",
     "text": [
      "96.2019298202\n"
     ]
    }
   ],
   "source": [
    "from sklearn.tree import DecisionTreeRegressor\n",
    "rentree = DecisionTreeRegressor(max_depth=11, min_samples_split=20, min_samples_leaf=16, max_features=None, random_state=3, max_leaf_nodes=None)\n",
    "rentree.fit(train[fit_cols],train['cnt'])\n",
    "treepreds = rentree.predict(test[fit_cols])\n",
    "print(mean_squared_error(test['cnt'],treepreds) ** 0.5)"
   ]
  },
  {
   "cell_type": "markdown",
   "metadata": {},
   "source": [
    "The initial RMSE (without tinkering with the levers) was in the low 100s. Setting a value of 20 for the min_samples per split and a max depth of a 11 branches got us down to 96.2 RMSE. There is obviously still plenty of imprivement to be had."
   ]
  },
  {
   "cell_type": "markdown",
   "metadata": {},
   "source": [
    "# Random Forests"
   ]
  },
  {
   "cell_type": "code",
   "execution_count": 14,
   "metadata": {
    "collapsed": false
   },
   "outputs": [
    {
     "name": "stdout",
     "output_type": "stream",
     "text": [
      "79.7877095988\n"
     ]
    }
   ],
   "source": [
    "from sklearn.ensemble import RandomForestRegressor\n",
    "rentforest = RandomForestRegressor(n_estimators=30, criterion='mse', max_depth=30, min_samples_split=20, min_samples_leaf=5, max_features='auto', max_leaf_nodes=None, random_state=1)\n",
    "rentforest.fit(train[fit_cols],train['cnt'])\n",
    "forpreds = rentforest.predict(test[fit_cols])\n",
    "print(mean_squared_error(test['cnt'],forpreds) ** 0.5)"
   ]
  },
  {
   "cell_type": "markdown",
   "metadata": {},
   "source": [
    "Using the parameters listed above I was able to reduce the RMSE down to just under 80, but I think adding more features might be a more effective method of minimizing the error further. Adding extra forests will yield diminishing returns once the time needed to compute all of them becomes onerous."
   ]
  },
  {
   "cell_type": "markdown",
   "metadata": {},
   "source": [
    "# Adding a Feature\n",
    "Let's try to give the addtional weather data more intelligence by creating an index that combines temperature, wind speed and humidity. Creating this index will create a better depiction of the numerical weather data with the qualitative forecast in `weathersit`. We'll calculate the difference between 1 and windspeed and humidity because the index should be indicate increasingly weather as it approaches the maximum value of 1. While windspeed is slightly  positively correlated with rental quantities, higher wind speeds create less favorable biking conditions. Humidity is negatively correlate with rental quanitites, so it is quantitatively apparent that high humidity negatively affects rental rates."
   ]
  },
  {
   "cell_type": "code",
   "execution_count": 24,
   "metadata": {
    "collapsed": false
   },
   "outputs": [
    {
     "name": "stdout",
     "output_type": "stream",
     "text": [
      "Root Mean Squared Error:  77.3417764203\n"
     ]
    }
   ],
   "source": [
    "#print(rentals.describe())\n",
    "rentals['weather_index'] = rentals['temp'] / 3 + (1 - rentals['windspeed']) / 3 + (1-rentals['hum']) / 3\n",
    "fit_cols2 = rentals.columns.tolist()\n",
    "fit_cols2.remove('casual')\n",
    "fit_cols2.remove('registered')\n",
    "fit_cols2.remove('cnt')\n",
    "fit_cols2.remove('dteday')\n",
    "\n",
    "train = rentals[:split_row]\n",
    "test = rentals[split_row:]\n",
    "\n",
    "rentforest2 = RandomForestRegressor(n_estimators=30, criterion='mse', max_depth=30, min_samples_split=20, min_samples_leaf=5, max_features='auto', max_leaf_nodes=None, random_state=1)\n",
    "rentforest2.fit(train[fit_cols2],train['cnt'])\n",
    "forpreds2 = rentforest2.predict(test[fit_cols2])\n",
    "print('Root Mean Squared Error: ',mean_squared_error(test['cnt'],forpreds2) ** 0.5)"
   ]
  },
  {
   "cell_type": "markdown",
   "metadata": {},
   "source": [
    "Adding the `weather_index` feature substantially improved the model. The RMSE decreased from 79.79 to 77.34. Adding more features that contain relevant organization of the data will likely further improve the model. Additionally, removing less relevant features using a selection algorithm may also improve the data. "
   ]
  }
 ],
 "metadata": {
  "kernelspec": {
   "display_name": "Python 3",
   "language": "python",
   "name": "python3"
  },
  "language_info": {
   "codemirror_mode": {
    "name": "ipython",
    "version": 3
   },
   "file_extension": ".py",
   "mimetype": "text/x-python",
   "name": "python",
   "nbconvert_exporter": "python",
   "pygments_lexer": "ipython3",
   "version": "3.5.1"
  }
 },
 "nbformat": 4,
 "nbformat_minor": 0
}
