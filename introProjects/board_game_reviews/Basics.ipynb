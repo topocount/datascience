{
 "cells": [
  {
   "cell_type": "markdown",
   "metadata": {},
   "source": [
    "# Board Game Analysis\n",
    "Examining some board game data from [board game geek](http://www.boardgamegeek.com/). It becomes evident pretty quickly that there is a large correlation between ownership and the review score, but I'm trying to see what else is going on, to try and find hidden gems"
   ]
  },
  {
   "cell_type": "code",
   "execution_count": 3,
   "metadata": {
    "collapsed": false
   },
   "outputs": [
    {
     "data": {
      "text/html": [
       "<div>\n",
       "<table border=\"1\" class=\"dataframe\">\n",
       "  <thead>\n",
       "    <tr style=\"text-align: right;\">\n",
       "      <th></th>\n",
       "      <th>id</th>\n",
       "      <th>type</th>\n",
       "      <th>name</th>\n",
       "      <th>yearpublished</th>\n",
       "      <th>minplayers</th>\n",
       "      <th>maxplayers</th>\n",
       "      <th>playingtime</th>\n",
       "      <th>minplaytime</th>\n",
       "      <th>maxplaytime</th>\n",
       "      <th>minage</th>\n",
       "      <th>users_rated</th>\n",
       "      <th>average_rating</th>\n",
       "      <th>bayes_average_rating</th>\n",
       "      <th>total_owners</th>\n",
       "      <th>total_traders</th>\n",
       "      <th>total_wanters</th>\n",
       "      <th>total_wishers</th>\n",
       "      <th>total_comments</th>\n",
       "      <th>total_weights</th>\n",
       "      <th>average_weight</th>\n",
       "    </tr>\n",
       "  </thead>\n",
       "  <tbody>\n",
       "    <tr>\n",
       "      <th>0</th>\n",
       "      <td>12333</td>\n",
       "      <td>boardgame</td>\n",
       "      <td>Twilight Struggle</td>\n",
       "      <td>2005.0</td>\n",
       "      <td>2.0</td>\n",
       "      <td>2.0</td>\n",
       "      <td>180.0</td>\n",
       "      <td>180.0</td>\n",
       "      <td>180.0</td>\n",
       "      <td>13.0</td>\n",
       "      <td>20113</td>\n",
       "      <td>8.33774</td>\n",
       "      <td>8.22186</td>\n",
       "      <td>26647</td>\n",
       "      <td>372</td>\n",
       "      <td>1219</td>\n",
       "      <td>5865</td>\n",
       "      <td>5347</td>\n",
       "      <td>2562</td>\n",
       "      <td>3.4785</td>\n",
       "    </tr>\n",
       "    <tr>\n",
       "      <th>1</th>\n",
       "      <td>120677</td>\n",
       "      <td>boardgame</td>\n",
       "      <td>Terra Mystica</td>\n",
       "      <td>2012.0</td>\n",
       "      <td>2.0</td>\n",
       "      <td>5.0</td>\n",
       "      <td>150.0</td>\n",
       "      <td>60.0</td>\n",
       "      <td>150.0</td>\n",
       "      <td>12.0</td>\n",
       "      <td>14383</td>\n",
       "      <td>8.28798</td>\n",
       "      <td>8.14232</td>\n",
       "      <td>16519</td>\n",
       "      <td>132</td>\n",
       "      <td>1586</td>\n",
       "      <td>6277</td>\n",
       "      <td>2526</td>\n",
       "      <td>1423</td>\n",
       "      <td>3.8939</td>\n",
       "    </tr>\n",
       "    <tr>\n",
       "      <th>2</th>\n",
       "      <td>102794</td>\n",
       "      <td>boardgame</td>\n",
       "      <td>Caverna: The Cave Farmers</td>\n",
       "      <td>2013.0</td>\n",
       "      <td>1.0</td>\n",
       "      <td>7.0</td>\n",
       "      <td>210.0</td>\n",
       "      <td>30.0</td>\n",
       "      <td>210.0</td>\n",
       "      <td>12.0</td>\n",
       "      <td>9262</td>\n",
       "      <td>8.28994</td>\n",
       "      <td>8.06886</td>\n",
       "      <td>12230</td>\n",
       "      <td>99</td>\n",
       "      <td>1476</td>\n",
       "      <td>5600</td>\n",
       "      <td>1700</td>\n",
       "      <td>777</td>\n",
       "      <td>3.7761</td>\n",
       "    </tr>\n",
       "    <tr>\n",
       "      <th>3</th>\n",
       "      <td>25613</td>\n",
       "      <td>boardgame</td>\n",
       "      <td>Through the Ages: A Story of Civilization</td>\n",
       "      <td>2006.0</td>\n",
       "      <td>2.0</td>\n",
       "      <td>4.0</td>\n",
       "      <td>240.0</td>\n",
       "      <td>240.0</td>\n",
       "      <td>240.0</td>\n",
       "      <td>12.0</td>\n",
       "      <td>13294</td>\n",
       "      <td>8.20407</td>\n",
       "      <td>8.05804</td>\n",
       "      <td>14343</td>\n",
       "      <td>362</td>\n",
       "      <td>1084</td>\n",
       "      <td>5075</td>\n",
       "      <td>3378</td>\n",
       "      <td>1642</td>\n",
       "      <td>4.1590</td>\n",
       "    </tr>\n",
       "    <tr>\n",
       "      <th>4</th>\n",
       "      <td>3076</td>\n",
       "      <td>boardgame</td>\n",
       "      <td>Puerto Rico</td>\n",
       "      <td>2002.0</td>\n",
       "      <td>2.0</td>\n",
       "      <td>5.0</td>\n",
       "      <td>150.0</td>\n",
       "      <td>90.0</td>\n",
       "      <td>150.0</td>\n",
       "      <td>12.0</td>\n",
       "      <td>39883</td>\n",
       "      <td>8.14261</td>\n",
       "      <td>8.04524</td>\n",
       "      <td>44362</td>\n",
       "      <td>795</td>\n",
       "      <td>861</td>\n",
       "      <td>5414</td>\n",
       "      <td>9173</td>\n",
       "      <td>5213</td>\n",
       "      <td>3.2943</td>\n",
       "    </tr>\n",
       "    <tr>\n",
       "      <th>5</th>\n",
       "      <td>31260</td>\n",
       "      <td>boardgame</td>\n",
       "      <td>Agricola</td>\n",
       "      <td>2007.0</td>\n",
       "      <td>1.0</td>\n",
       "      <td>5.0</td>\n",
       "      <td>150.0</td>\n",
       "      <td>30.0</td>\n",
       "      <td>150.0</td>\n",
       "      <td>12.0</td>\n",
       "      <td>39714</td>\n",
       "      <td>8.11957</td>\n",
       "      <td>8.03847</td>\n",
       "      <td>47522</td>\n",
       "      <td>837</td>\n",
       "      <td>958</td>\n",
       "      <td>6402</td>\n",
       "      <td>9310</td>\n",
       "      <td>5065</td>\n",
       "      <td>3.6160</td>\n",
       "    </tr>\n",
       "    <tr>\n",
       "      <th>6</th>\n",
       "      <td>124742</td>\n",
       "      <td>boardgame</td>\n",
       "      <td>Android: Netrunner</td>\n",
       "      <td>2012.0</td>\n",
       "      <td>2.0</td>\n",
       "      <td>2.0</td>\n",
       "      <td>45.0</td>\n",
       "      <td>45.0</td>\n",
       "      <td>45.0</td>\n",
       "      <td>14.0</td>\n",
       "      <td>15281</td>\n",
       "      <td>8.16760</td>\n",
       "      <td>7.97822</td>\n",
       "      <td>24381</td>\n",
       "      <td>680</td>\n",
       "      <td>627</td>\n",
       "      <td>3244</td>\n",
       "      <td>3202</td>\n",
       "      <td>1260</td>\n",
       "      <td>3.3103</td>\n",
       "    </tr>\n",
       "    <tr>\n",
       "      <th>7</th>\n",
       "      <td>96848</td>\n",
       "      <td>boardgame</td>\n",
       "      <td>Mage Knight Board Game</td>\n",
       "      <td>2011.0</td>\n",
       "      <td>1.0</td>\n",
       "      <td>4.0</td>\n",
       "      <td>150.0</td>\n",
       "      <td>150.0</td>\n",
       "      <td>150.0</td>\n",
       "      <td>14.0</td>\n",
       "      <td>12697</td>\n",
       "      <td>8.15901</td>\n",
       "      <td>7.96929</td>\n",
       "      <td>18769</td>\n",
       "      <td>367</td>\n",
       "      <td>1116</td>\n",
       "      <td>5427</td>\n",
       "      <td>2861</td>\n",
       "      <td>1409</td>\n",
       "      <td>4.1292</td>\n",
       "    </tr>\n",
       "    <tr>\n",
       "      <th>8</th>\n",
       "      <td>84876</td>\n",
       "      <td>boardgame</td>\n",
       "      <td>The Castles of Burgundy</td>\n",
       "      <td>2011.0</td>\n",
       "      <td>2.0</td>\n",
       "      <td>4.0</td>\n",
       "      <td>90.0</td>\n",
       "      <td>30.0</td>\n",
       "      <td>90.0</td>\n",
       "      <td>12.0</td>\n",
       "      <td>15461</td>\n",
       "      <td>8.07879</td>\n",
       "      <td>7.95011</td>\n",
       "      <td>20558</td>\n",
       "      <td>215</td>\n",
       "      <td>929</td>\n",
       "      <td>3681</td>\n",
       "      <td>3244</td>\n",
       "      <td>1176</td>\n",
       "      <td>3.0442</td>\n",
       "    </tr>\n",
       "    <tr>\n",
       "      <th>9</th>\n",
       "      <td>72125</td>\n",
       "      <td>boardgame</td>\n",
       "      <td>Eclipse</td>\n",
       "      <td>2011.0</td>\n",
       "      <td>2.0</td>\n",
       "      <td>6.0</td>\n",
       "      <td>200.0</td>\n",
       "      <td>60.0</td>\n",
       "      <td>200.0</td>\n",
       "      <td>14.0</td>\n",
       "      <td>15709</td>\n",
       "      <td>8.07933</td>\n",
       "      <td>7.93244</td>\n",
       "      <td>17611</td>\n",
       "      <td>273</td>\n",
       "      <td>1108</td>\n",
       "      <td>5581</td>\n",
       "      <td>3188</td>\n",
       "      <td>1486</td>\n",
       "      <td>3.6359</td>\n",
       "    </tr>\n",
       "  </tbody>\n",
       "</table>\n",
       "</div>"
      ],
      "text/plain": [
       "       id       type                                       name  \\\n",
       "0   12333  boardgame                          Twilight Struggle   \n",
       "1  120677  boardgame                              Terra Mystica   \n",
       "2  102794  boardgame                  Caverna: The Cave Farmers   \n",
       "3   25613  boardgame  Through the Ages: A Story of Civilization   \n",
       "4    3076  boardgame                                Puerto Rico   \n",
       "5   31260  boardgame                                   Agricola   \n",
       "6  124742  boardgame                         Android: Netrunner   \n",
       "7   96848  boardgame                     Mage Knight Board Game   \n",
       "8   84876  boardgame                    The Castles of Burgundy   \n",
       "9   72125  boardgame                                    Eclipse   \n",
       "\n",
       "   yearpublished  minplayers  maxplayers  playingtime  minplaytime  \\\n",
       "0         2005.0         2.0         2.0        180.0        180.0   \n",
       "1         2012.0         2.0         5.0        150.0         60.0   \n",
       "2         2013.0         1.0         7.0        210.0         30.0   \n",
       "3         2006.0         2.0         4.0        240.0        240.0   \n",
       "4         2002.0         2.0         5.0        150.0         90.0   \n",
       "5         2007.0         1.0         5.0        150.0         30.0   \n",
       "6         2012.0         2.0         2.0         45.0         45.0   \n",
       "7         2011.0         1.0         4.0        150.0        150.0   \n",
       "8         2011.0         2.0         4.0         90.0         30.0   \n",
       "9         2011.0         2.0         6.0        200.0         60.0   \n",
       "\n",
       "   maxplaytime  minage  users_rated  average_rating  bayes_average_rating  \\\n",
       "0        180.0    13.0        20113         8.33774               8.22186   \n",
       "1        150.0    12.0        14383         8.28798               8.14232   \n",
       "2        210.0    12.0         9262         8.28994               8.06886   \n",
       "3        240.0    12.0        13294         8.20407               8.05804   \n",
       "4        150.0    12.0        39883         8.14261               8.04524   \n",
       "5        150.0    12.0        39714         8.11957               8.03847   \n",
       "6         45.0    14.0        15281         8.16760               7.97822   \n",
       "7        150.0    14.0        12697         8.15901               7.96929   \n",
       "8         90.0    12.0        15461         8.07879               7.95011   \n",
       "9        200.0    14.0        15709         8.07933               7.93244   \n",
       "\n",
       "   total_owners  total_traders  total_wanters  total_wishers  total_comments  \\\n",
       "0         26647            372           1219           5865            5347   \n",
       "1         16519            132           1586           6277            2526   \n",
       "2         12230             99           1476           5600            1700   \n",
       "3         14343            362           1084           5075            3378   \n",
       "4         44362            795            861           5414            9173   \n",
       "5         47522            837            958           6402            9310   \n",
       "6         24381            680            627           3244            3202   \n",
       "7         18769            367           1116           5427            2861   \n",
       "8         20558            215            929           3681            3244   \n",
       "9         17611            273           1108           5581            3188   \n",
       "\n",
       "   total_weights  average_weight  \n",
       "0           2562          3.4785  \n",
       "1           1423          3.8939  \n",
       "2            777          3.7761  \n",
       "3           1642          4.1590  \n",
       "4           5213          3.2943  \n",
       "5           5065          3.6160  \n",
       "6           1260          3.3103  \n",
       "7           1409          4.1292  \n",
       "8           1176          3.0442  \n",
       "9           1486          3.6359  "
      ]
     },
     "execution_count": 3,
     "metadata": {},
     "output_type": "execute_result"
    }
   ],
   "source": [
    "import pandas as pd\n",
    "import numpy as np\n",
    "import sklearn as sk\n",
    "import matplotlib.pyplot as plt\n",
    "%matplotlib inline\n",
    "bgr = pd.read_csv('board_games.csv')\n",
    "bgr = bgr[bgr['users_rated'] != 0]\n",
    "bgr.head(10)"
   ]
  },
  {
   "cell_type": "markdown",
   "metadata": {},
   "source": [
    "# Determining An Error Metric and Getting Familiar with the Dataset"
   ]
  },
  {
   "cell_type": "code",
   "execution_count": 2,
   "metadata": {
    "collapsed": false
   },
   "outputs": [
    {
     "data": {
      "image/png": "[encoded data removed]",
      "text/plain": [
       "<matplotlib.figure.Figure at 0x7f488338bb38>"
      ]
     },
     "metadata": {},
     "output_type": "display_data"
    },
    {
     "name": "stdout",
     "output_type": "stream",
     "text": [
      "stddev: 1.5785522573378534 \n",
      " mean: 6.015910848556213\n"
     ]
    }
   ],
   "source": [
    "bgr.average_rating.hist()\n",
    "plt.show()\n",
    "\n",
    "print('stddev:',bgr.average_rating.std(),'\\n', 'mean:',bgr.average_rating.mean())"
   ]
  },
  {
   "cell_type": "markdown",
   "metadata": {},
   "source": [
    "With the games with an average score of 0.0 removed from the dataset, a normal distribution appears to fit the data nicely. Because the distribution appears to be continuous, a metric such as absolute error or RMS error are good options. To penalize larger errors, we'll move forward with MSE as the error metric of choice."
   ]
  },
  {
   "cell_type": "code",
   "execution_count": 8,
   "metadata": {
    "collapsed": false
   },
   "outputs": [
    {
     "data": {
      "image/png": "[encoded data removed]",
      "text/plain": [
       "<matplotlib.figure.Figure at 0x7aee6b0>"
      ]
     },
     "metadata": {},
     "output_type": "display_data"
    }
   ],
   "source": [
    "bgr.users_rated.hist()\n",
    "plt.show()\n"
   ]
  },
  {
   "cell_type": "markdown",
   "metadata": {},
   "source": [
    "The histogram above illustrates that most board games have relatively few reviews, and that games that have more reviews are outliers. there isn't any quantitative continuity between this large quantity of games with fewer reviews and games with a larger amount reviews."
   ]
  },
  {
   "cell_type": "code",
   "execution_count": 4,
   "metadata": {
    "collapsed": false
   },
   "outputs": [
    {
     "data": {
      "image/png": "[encoded data removed]",
      "text/plain": [
       "<matplotlib.figure.Figure at 0xb1f5970>"
      ]
     },
     "metadata": {},
     "output_type": "display_data"
    }
   ],
   "source": [
    "plt.scatter(bgr.users_rated,bgr.average_rating)\n",
    "plt.show()"
   ]
  },
  {
   "cell_type": "markdown",
   "metadata": {},
   "source": [
    "The above scatterplot shows `users_rated` on the x axis and `average_rating` on the y axis. It's interesting to see that so many games still have so few reviews. It might be interesting to plot the games with reviews that aren't on the order of 10000 and see how they are scatter. The outliers with a large quantity of reviews are intuitively more highy rated. \n",
    "NOTE: add this plot to the clustering section"
   ]
  },
  {
   "cell_type": "markdown",
   "metadata": {},
   "source": [
    "# Clustering"
   ]
  },
  {
   "cell_type": "code",
   "execution_count": 4,
   "metadata": {
    "collapsed": false
   },
   "outputs": [],
   "source": [
    "from sklearn.cluster import KMeans\n",
    "bgr = bgr.dropna()\n",
    "numeric_columns = list(bgr.columns[3:])\n",
    "kmc = KMeans(n_clusters=5)\n",
    "kmc.fit(bgr[numeric_columns])\n",
    "labels = kmc.labels_"
   ]
  },
  {
   "cell_type": "code",
   "execution_count": 5,
   "metadata": {
    "collapsed": false
   },
   "outputs": [
    {
     "data": {
      "image/png": "[encoded data removed]",
      "text/plain": [
       "<matplotlib.figure.Figure at 0x7f4883b911d0>"
      ]
     },
     "metadata": {},
     "output_type": "display_data"
    }
   ],
   "source": [
    "def rowmean(row):\n",
    "    return row.mean()\n",
    "def rowstd(row):\n",
    "    return row.std()\n",
    "\n",
    "game_mean = bgr[numeric_columns].apply(rowmean,axis=1)\n",
    "game_std = bgr[numeric_columns].apply(rowstd,axis=1)\n",
    "plt.scatter(game_mean,game_std,c=labels)\n",
    "plt.show()\n",
    "#print(len(game_mean),len(labels))"
   ]
  },
  {
   "cell_type": "markdown",
   "metadata": {},
   "source": [
    "There's a very strong correlations between the average and the standard deviation of this data. This indicates that a higher rating also entails a larger quantity of reviews. It appears that games have been grouped pretty similarly to how they are scattered above. It's still not clear which columns are strongly correlated though, as this is an aggregate of all of the numerical data available."
   ]
  },
  {
   "cell_type": "markdown",
   "metadata": {},
   "source": [
    "# Reviewing Column Correlations"
   ]
  },
  {
   "cell_type": "code",
   "execution_count": 10,
   "metadata": {
    "collapsed": false
   },
   "outputs": [
    {
     "data": {
      "text/plain": [
       "yearpublished           0.108461\n",
       "minplayers             -0.032701\n",
       "maxplayers             -0.008335\n",
       "playingtime             0.048994\n",
       "minplaytime             0.043985\n",
       "maxplaytime             0.048994\n",
       "minage                  0.210049\n",
       "users_rated             0.112564\n",
       "average_rating          1.000000\n",
       "bayes_average_rating    0.231563\n",
       "total_owners            0.137478\n",
       "total_traders           0.119452\n",
       "total_wanters           0.196566\n",
       "total_wishers           0.171375\n",
       "total_comments          0.123714\n",
       "total_weights           0.109691\n",
       "average_weight          0.351081\n",
       "player_range           -0.007829\n",
       "time_range              0.025640\n",
       "Name: average_rating, dtype: float64"
      ]
     },
     "execution_count": 10,
     "metadata": {},
     "output_type": "execute_result"
    }
   ],
   "source": [
    "correlations = bgr[numeric_columns].corr()\n",
    "correlations['average_rating']"
   ]
  },
  {
   "cell_type": "markdown",
   "metadata": {},
   "source": [
    "I'm surprised that correlations with yearpublished and total_owners are so similar. I'm not sure I understand why that is the case. I'm also surprised that the bayes_average_rating correlation is relatively low, but it must be removed because it corresponds with average_rating and would cause overfitting if left in. \n",
    "I think the minimum player age value is especially interesting as it shows that a games for older players get higher ratings. Additionally, player quantities show that games with fewer players are slightly preferred, if at all, over games with more players"
   ]
  },
  {
   "cell_type": "markdown",
   "metadata": {},
   "source": [
    "# Model Creation\n",
    "In this attempt at creating a model, training and test subsets will not be used and instead we'll simply evaluate the model's capability based on the whole dataset"
   ]
  },
  {
   "cell_type": "code",
   "execution_count": 6,
   "metadata": {
    "collapsed": false
   },
   "outputs": [],
   "source": [
    "from sklearn.linear_model import LinearRegression\n",
    "reg = LinearRegression()\n",
    "rel_cols = numeric_columns\n",
    "rel_cols.remove(\"average_rating\")\n",
    "rel_cols.remove('bayes_average_rating')\n",
    "reg.fit(bgr[rel_cols],bgr['average_rating'])\n",
    "preds = reg.predict(bgr[rel_cols])"
   ]
  },
  {
   "cell_type": "code",
   "execution_count": 14,
   "metadata": {
    "collapsed": false
   },
   "outputs": [
    {
     "data": {
      "text/plain": [
       "['yearpublished',\n",
       " 'minplayers',\n",
       " 'maxplayers',\n",
       " 'playingtime',\n",
       " 'minplaytime',\n",
       " 'maxplaytime',\n",
       " 'minage',\n",
       " 'users_rated',\n",
       " 'total_owners',\n",
       " 'total_traders',\n",
       " 'total_wanters',\n",
       " 'total_wishers',\n",
       " 'total_comments',\n",
       " 'total_weights',\n",
       " 'average_weight']"
      ]
     },
     "execution_count": 14,
     "metadata": {},
     "output_type": "execute_result"
    }
   ],
   "source": [
    "rel_cols"
   ]
  },
  {
   "cell_type": "code",
   "execution_count": 26,
   "metadata": {
    "collapsed": false
   },
   "outputs": [
    {
     "data": {
      "text/plain": [
       "1.4468576211341377"
      ]
     },
     "execution_count": 26,
     "metadata": {},
     "output_type": "execute_result"
    }
   ],
   "source": [
    "from sklearn.metrics import mean_squared_error\n",
    "mean_squared_error(bgr['average_rating'],preds)  ** 0.5"
   ]
  },
  {
   "cell_type": "markdown",
   "metadata": {},
   "source": [
    "# Conclusions From the Linear Regression MSE\n",
    "The MSE indicates that our model isn't a great predictor, since it is about as large as the standard deviation of the distribution of given scores. "
   ]
  },
  {
   "cell_type": "code",
   "execution_count": 25,
   "metadata": {
    "collapsed": false
   },
   "outputs": [
    {
     "data": {
      "text/plain": [
       "1.349702888317206"
      ]
     },
     "execution_count": 25,
     "metadata": {},
     "output_type": "execute_result"
    }
   ],
   "source": [
    "from sklearn.cross_validation import KFold\n",
    "kf = KFold(bgr.shape[0],random_state=1)\n",
    "\n",
    "from sklearn.ensemble import RandomForestRegressor\n",
    "bgforest = RandomForestRegressor(n_estimators=15, criterion='mse',min_samples_split=4,max_depth=12,n_jobs=-1,random_state=1)\n",
    "\n",
    "predictions = []\n",
    "for train, test in kf:\n",
    "    train_predictors = (bgr[rel_cols].iloc[train])\n",
    "    train_target = bgr['average_rating'].iloc[train]\n",
    "    bgforest.fit(train_predictors, train_target)\n",
    "    test_predictions = bgforest.predict(bgr[rel_cols].iloc[test,:])\n",
    "    predictions.append(test_predictions)\n",
    "    \n",
    "predictions = np.concatenate(predictions,axis=0)\n",
    "\n",
    "mean_squared_error(bgr['average_rating'],predictions) ** 0.5"
   ]
  },
  {
   "cell_type": "markdown",
   "metadata": {},
   "source": [
    "# Conclusions and Next Steps\n",
    "After applying a more nuanced prediction model, We've gained some accuracy. It would be interesting next to add more features that involve rates of reviewership and comments, since that seems to be a very compelling metric, as seen in the clustered plot above. "
   ]
  },
  {
   "cell_type": "code",
   "execution_count": 4,
   "metadata": {
    "collapsed": false
   },
   "outputs": [
    {
     "name": "stdout",
     "output_type": "stream",
     "text": [
      "                  id  yearpublished    minplayers    maxplayers   playingtime  \\\n",
      "count   56932.000000   56930.000000  56930.000000  56930.000000  56930.000000   \n",
      "mean    64124.321998    1874.770385      2.005041      5.573792     59.908818   \n",
      "std     57516.147278     486.079228      0.791646     50.757504    406.324651   \n",
      "min         1.000000   -3500.000000      0.000000      0.000000      0.000000   \n",
      "25%     16145.750000    1989.000000      2.000000      2.000000     15.000000   \n",
      "50%     36955.500000    2005.000000      2.000000      4.000000     30.000000   \n",
      "75%    118610.000000    2011.000000      2.000000      6.000000     60.000000   \n",
      "max    184260.000000    2017.000000     40.000000  11299.000000  60120.000000   \n",
      "\n",
      "        minplaytime   maxplaytime        minage   users_rated  average_rating  \\\n",
      "count  56930.000000  56930.000000  56930.000000  56932.000000    56932.000000   \n",
      "mean      57.446057     59.908818      7.592816    231.211305        6.015911   \n",
      "std      393.074343    406.324651      4.868998   1363.681366        1.578552   \n",
      "min        0.000000      0.000000      0.000000      1.000000        1.000000   \n",
      "25%       15.000000     15.000000      4.000000      2.000000        5.000000   \n",
      "50%       30.000000     30.000000      8.000000      7.000000        6.150000   \n",
      "75%       60.000000     60.000000     12.000000     39.000000        7.039372   \n",
      "max    60120.000000  60120.000000    120.000000  53680.000000       10.000000   \n",
      "\n",
      "       bayes_average_rating  total_owners  total_traders  total_wanters  \\\n",
      "count          56932.000000  56932.000000   56932.000000   56932.000000   \n",
      "mean               1.653365    374.264754      13.157750      17.990937   \n",
      "std                2.645948   1786.432000      46.970226      71.961726   \n",
      "min                0.000000      0.000000       0.000000       0.000000   \n",
      "25%                0.000000      5.000000       0.000000       0.000000   \n",
      "50%                0.000000     20.000000       1.000000       1.000000   \n",
      "75%                5.488010    125.000000       6.000000       6.000000   \n",
      "max                8.221860  73188.000000    1395.000000    1586.000000   \n",
      "\n",
      "       total_wishers  total_comments  total_weights  average_weight  \n",
      "count   56932.000000    56932.000000   56932.000000    56932.000000  \n",
      "mean       60.539486       70.298672      23.533496        1.269279  \n",
      "std       284.070672      338.267232     138.008185        1.213857  \n",
      "min         0.000000        0.000000       0.000000        0.000000  \n",
      "25%         0.000000        1.000000       0.000000        0.000000  \n",
      "50%         3.000000        4.000000       1.000000        1.000000  \n",
      "75%        15.000000       19.000000       5.000000        2.000000  \n",
      "max      6402.000000    11798.000000    5996.000000        5.000000  \n"
     ]
    }
   ],
   "source": [
    "print(bgr.describe())"
   ]
  },
  {
   "cell_type": "markdown",
   "metadata": {},
   "source": [
    "# Adding a Couple Features\n",
    "Let's add a playing time range and player-size range to see if they have any impact on our models."
   ]
  },
  {
   "cell_type": "code",
   "execution_count": 6,
   "metadata": {
    "collapsed": true
   },
   "outputs": [],
   "source": [
    "bgr['player_range'] = bgr['maxplayers'] - bgr['minplayers']\n",
    "bgr['time_range'] = bgr['maxplaytime'] - bgr['minplaytime']"
   ]
  }
 ],
 "metadata": {
  "kernelspec": {
   "display_name": "Python 3",
   "language": "python",
   "name": "python3"
  },
  "language_info": {
   "codemirror_mode": {
    "name": "ipython",
    "version": 3
   },
   "file_extension": ".py",
   "mimetype": "text/x-python",
   "name": "python",
   "nbconvert_exporter": "python",
   "pygments_lexer": "ipython3",
   "version": "3.5.1"
  }
 },
 "nbformat": 4,
 "nbformat_minor": 0
}
